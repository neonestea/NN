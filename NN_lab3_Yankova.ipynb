{
  "cells": [
    {
      "cell_type": "markdown",
      "metadata": {
        "id": "WWP4e5qZ2BNz"
      },
      "source": [
        "## Семинар 4: \"Сверточные сети\""
      ]
    },
    {
      "cell_type": "markdown",
      "metadata": {
        "id": "tdEeHAFQ2BN2"
      },
      "source": [
        "ФИО: Янкова Анастасия Алексеевна"
      ]
    },
    {
      "cell_type": "code",
      "execution_count": 1,
      "metadata": {
        "id": "J_0iq5Xy2BN3"
      },
      "outputs": [],
      "source": [
        "import numpy as np\n",
        "#from sklearn.datasets import fetch_mldata\n",
        "#from sklearn.model_selection import train_test_split\n",
        "import torch\n",
        "from torch import nn\n",
        "import torch.nn.functional as func\n",
        "import matplotlib.pyplot as plt\n",
        "from torch.utils.data import DataLoader\n",
        "from torchvision.datasets import MNIST\n",
        "from torchvision import transforms\n",
        "from IPython.display import clear_output\n",
        "%matplotlib inline"
      ]
    },
    {
      "cell_type": "markdown",
      "metadata": {
        "id": "B2lEykp82BOQ"
      },
      "source": [
        "### Часть 3: Сверточная сеть на pyTorch"
      ]
    },
    {
      "cell_type": "markdown",
      "metadata": {
        "id": "vKcClolk2BOY"
      },
      "source": [
        "<i>3.3 Поэкспериментируйте с различными архитектурами сверточных сетей. Смогли ли вы улучшить результат на тестовой выборке?</i>"
      ]
    },
    {
      "cell_type": "code",
      "execution_count": 2,
      "metadata": {
        "collapsed": true,
        "colab": {
          "base_uri": "https://localhost:8080/"
        },
        "id": "f3MaPaHB2BOZ",
        "outputId": "3149add5-d911-417d-bf16-1073973abe56"
      },
      "outputs": [
        {
          "output_type": "stream",
          "name": "stdout",
          "text": [
            "Need to make better than Accuracy: 0.948/0.957\n"
          ]
        }
      ],
      "source": [
        "print(\"Need to make better than Accuracy: 0.948/0.957\")"
      ]
    },
    {
      "cell_type": "code",
      "source": [
        "transform = transforms.Compose([\n",
        "                       transforms.ToTensor(),\n",
        "                       transforms.Normalize((0.1307,), (0.3081,))\n",
        "                    ])\n",
        "train_dataset = MNIST('.', train=True, download=True, transform=transform)\n",
        "test_dataset = MNIST('.', train=False, transform=transform)\n",
        "\n",
        "train_loader = DataLoader(train_dataset, batch_size=32, shuffle=True)\n",
        "test_loader = DataLoader(test_dataset, batch_size=32, shuffle=True)"
      ],
      "metadata": {
        "id": "1O605Wy14LIZ"
      },
      "execution_count": 3,
      "outputs": []
    },
    {
      "cell_type": "code",
      "source": [
        "def train(network, epochs, learning_rate):\n",
        "    loss = nn.NLLLoss()\n",
        "    optimizer = torch.optim.Adam(network.parameters(), lr=learning_rate)\n",
        "    train_loss_epochs = []\n",
        "    test_loss_epochs = []\n",
        "    train_accuracy_epochs = []\n",
        "    test_accuracy_epochs = []\n",
        "    try:\n",
        "        for epoch in range(epochs):\n",
        "            losses = []\n",
        "            accuracies = []\n",
        "            for X, y in train_loader:\n",
        "                network.zero_grad()\n",
        "                prediction = network(X)\n",
        "                loss_batch = loss(prediction, y)\n",
        "                losses.append(loss_batch.item())\n",
        "                loss_batch.backward()\n",
        "                optimizer.step()\n",
        "                accuracies.append((np.argmax(prediction.data.numpy(), 1)==y.data.numpy()).mean())\n",
        "            train_loss_epochs.append(np.mean(losses))\n",
        "            train_accuracy_epochs.append(np.mean(accuracies))\n",
        "            losses = []\n",
        "            accuracies = []    \n",
        "            for X, y in test_loader:\n",
        "                prediction = network(X)\n",
        "                loss_batch = loss(prediction, y)\n",
        "                losses.append(loss_batch.item())\n",
        "                accuracies.append((np.argmax(prediction.data.numpy(), 1)==y.data.numpy()).mean())\n",
        "            test_loss_epochs.append(np.mean(losses))\n",
        "            test_accuracy_epochs.append(np.mean(accuracies))\n",
        "            clear_output(True)\n",
        "            print('\\rEpoch {0}... (Train/Test) NLL: {1:.3f}/{2:.3f}\\tAccuracy: {3:.3f}/{4:.3f}'.format(\n",
        "                        epoch, train_loss_epochs[-1], test_loss_epochs[-1],\n",
        "                        train_accuracy_epochs[-1], test_accuracy_epochs[-1]))\n",
        "            plt.figure(figsize=(12, 5))\n",
        "            plt.subplot(1, 2, 1)\n",
        "            plt.plot(train_loss_epochs, label='Train')\n",
        "            plt.plot(test_loss_epochs, label='Test')\n",
        "            plt.xlabel('Epochs', fontsize=16)\n",
        "            plt.ylabel('Loss', fontsize=16)\n",
        "            plt.legend(loc=0, fontsize=16)\n",
        "            plt.grid()\n",
        "            plt.subplot(1, 2, 2)\n",
        "            plt.plot(train_accuracy_epochs, label='Train accuracy')\n",
        "            plt.plot(test_accuracy_epochs, label='Test accuracy')\n",
        "            plt.xlabel('Epochs', fontsize=16)\n",
        "            plt.ylabel('Loss', fontsize=16)\n",
        "            plt.legend(loc=0, fontsize=16)\n",
        "            plt.grid()\n",
        "            plt.show()\n",
        "    except KeyboardInterrupt:\n",
        "        pass"
      ],
      "metadata": {
        "id": "0zBmpVKT4PTI"
      },
      "execution_count": 4,
      "outputs": []
    },
    {
      "cell_type": "code",
      "source": [
        "# моя сверточная сеть\n",
        "\n",
        "#in_channels, out_channels, kernel_size\n",
        "\n",
        "image_size = 28\n",
        "channels = 1\n",
        "class ConvClassifier(nn.Module):\n",
        "    def __init__(self, image_size):\n",
        "        super(ConvClassifier, self).__init__()\n",
        "        self.conv1 = nn.Sequential(nn.Conv2d(channels, 8, 3, padding=1), nn.ReLU(), nn.Conv2d(8, 16, 3, padding=1), nn.ReLU(),nn.MaxPool2d(2))\n",
        "        self.conv2 = nn.Sequential(nn.Conv2d(16, 32, 3, padding=1), nn.ReLU(), nn.Conv2d(32, 64, 3, padding=1), nn.ReLU(), nn.MaxPool2d(2))\n",
        "        self.conv3 = nn.Sequential(nn.Conv2d(64, 32, 3, padding=1), nn.ReLU(), nn.Conv2d(32, 16, 3, padding=1), nn.ReLU())\n",
        "        out_channels = 16\n",
        "        num_of_pooling = 2\n",
        "        for_pooling = 2 * num_of_pooling\n",
        "        self.linear_layers = nn.Sequential(nn.Linear(image_size//for_pooling*image_size//for_pooling*out_channels, 10), nn.LogSoftmax(dim=1))\n",
        "    \n",
        "    def forward(self, x):\n",
        "        x = self.conv1(x)\n",
        "        x = self.conv2(x)\n",
        "        x = self.conv3(x)\n",
        "        x = x.view(x.size(0), -1)\n",
        "        #print(x.shape)\n",
        "        \n",
        "        x = self.linear_layers(x)\n",
        "        return x"
      ],
      "metadata": {
        "id": "krPUAUS14Lhv"
      },
      "execution_count": 11,
      "outputs": []
    },
    {
      "cell_type": "code",
      "source": [
        "network = ConvClassifier(image_size=28)\n",
        "train(network, 5, 1e-4)"
      ],
      "metadata": {
        "colab": {
          "base_uri": "https://localhost:8080/",
          "height": 357
        },
        "id": "oVsNwF_74S6s",
        "outputId": "8eda45f4-a6a3-4f02-8baf-eb31fddc268e"
      },
      "execution_count": 12,
      "outputs": [
        {
          "output_type": "stream",
          "name": "stdout",
          "text": [
            "\rEpoch 4... (Train/Test) NLL: 0.052/0.039\tAccuracy: 0.984/0.987\n"
          ]
        },
        {
          "output_type": "display_data",
          "data": {
            "text/plain": [
              "<Figure size 864x360 with 2 Axes>"
            ],
            "image/png": "[encoded data removed]"
          },
          "metadata": {
            "needs_background": "light"
          }
        }
      ]
    },
    {
      "cell_type": "markdown",
      "metadata": {
        "id": "czaB-2zk2BOZ"
      },
      "source": [
        "#### Feedback (опционально)"
      ]
    },
    {
      "cell_type": "markdown",
      "metadata": {
        "id": "8kfozh562BOZ"
      },
      "source": [
        "Здесь вы можете оставить список опечаток из лекции или семинара:"
      ]
    },
    {
      "cell_type": "raw",
      "metadata": {
        "id": "hTfp7jse2BOa"
      },
      "source": []
    },
    {
      "cell_type": "markdown",
      "metadata": {
        "id": "4UcG9m792BOa"
      },
      "source": [
        "Здесь вы можете оставить комментарии по лекции или семинару:"
      ]
    },
    {
      "cell_type": "raw",
      "metadata": {
        "id": "hBQcGfyP2BOa"
      },
      "source": [
        "Все доходчиво и интересно, спасибо!"
      ]
    }
  ],
  "metadata": {
    "kernelspec": {
      "display_name": "Python 3",
      "language": "python",
      "name": "python3"
    },
    "language_info": {
      "codemirror_mode": {
        "name": "ipython",
        "version": 3
      },
      "file_extension": ".py",
      "mimetype": "text/x-python",
      "name": "python",
      "nbconvert_exporter": "python",
      "pygments_lexer": "ipython3",
      "version": "3.8.10"
    },
    "latex_envs": {
      "bibliofile": "biblio.bib",
      "cite_by": "apalike",
      "current_citInitial": 1,
      "eqLabelWithNumbers": true,
      "eqNumInitial": 0
    },
    "colab": {
      "provenance": []
    }
  },
  "nbformat": 4,
  "nbformat_minor": 0
}