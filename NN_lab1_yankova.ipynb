{
  "nbformat": 4,
  "nbformat_minor": 0,
  "metadata": {
    "colab": {
      "provenance": []
    },
    "kernelspec": {
      "name": "python3",
      "display_name": "Python 3"
    },
    "language_info": {
      "name": "python"
    }
  },
  "cells": [
    {
      "cell_type": "code",
      "execution_count": 1291,
      "metadata": {
        "id": "O_B6HaOrwAJP"
      },
      "outputs": [],
      "source": [
        "import numpy as np\n",
        "import pandas as pd\n",
        "import matplotlib.pyplot as plt\n",
        "\n",
        "from sklearn.linear_model import LinearRegression\n",
        "from sklearn.neural_network import MLPRegressor\n",
        "from sklearn.model_selection import train_test_split\n",
        "from sklearn.metrics import r2_score, mean_squared_error\n",
        "from sklearn.preprocessing import MinMaxScaler\n",
        "\n",
        "%matplotlib inline"
      ]
    },
    {
      "cell_type": "markdown",
      "source": [
        "### **Загружаем выборку Diamonds**\n",
        "\n",
        "\n",
        "1.   PRICE: price in US dollars (326-18,823)\n",
        "2.   CARAT: weight of the diamond (0.2--5.01)\n",
        "3. CUT: quality of the cut (Fair, Good, Very Good, Premium, Ideal)\n",
        "4. COLOR: diamond colour, from J (worst) to D (best)\n",
        "5. CLARITY: a measurement of how clear the diamond is (I1 (worst), SI2, SI1, VS2, VS1, VVS2, VVS1, IF (best))\n",
        "6. X: length in mm (0--10.74)\n",
        "7. Y: width in mm (0--58.9)\n",
        "8. Z: depth in mm (0--31.8)\n",
        "9. DEPTH: total depth percentage = z / mean(x, y) = 2 * z / (x + y) (43--79)\n",
        "10. TABLE: width of top of diamond relative to widest point (43--95)"
      ],
      "metadata": {
        "id": "7B9_KFxhwOWt"
      }
    },
    {
      "cell_type": "code",
      "source": [
        "diamonds_df = pd.read_csv('diamonds.csv')"
      ],
      "metadata": {
        "id": "pSbItzewwlid"
      },
      "execution_count": 1292,
      "outputs": []
    },
    {
      "cell_type": "code",
      "source": [
        "diamonds_df.head()"
      ],
      "metadata": {
        "id": "heGbJF1PwmbX",
        "colab": {
          "base_uri": "https://localhost:8080/",
          "height": 206
        },
        "outputId": "5e858a14-f866-428a-a1ed-f017dd5224cd"
      },
      "execution_count": 1293,
      "outputs": [
        {
          "output_type": "execute_result",
          "data": {
            "text/plain": [
              "   Unnamed: 0  carat      cut color clarity  depth  table  price     x     y  \\\n",
              "0           1   0.23    Ideal     E     SI2   61.5   55.0    326  3.95  3.98   \n",
              "1           2   0.21  Premium     E     SI1   59.8   61.0    326  3.89  3.84   \n",
              "2           3   0.23     Good     E     VS1   56.9   65.0    327  4.05  4.07   \n",
              "3           4   0.29  Premium     I     VS2   62.4   58.0    334  4.20  4.23   \n",
              "4           5   0.31     Good     J     SI2   63.3   58.0    335  4.34  4.35   \n",
              "\n",
              "      z  \n",
              "0  2.43  \n",
              "1  2.31  \n",
              "2  2.31  \n",
              "3  2.63  \n",
              "4  2.75  "
            ],
            "text/html": [
              "\n",
              "  <div id=\"df-bc444c6b-0a40-4905-a808-436d3560e2e0\">\n",
              "    <div class=\"colab-df-container\">\n",
              "      <div>\n",
              "<style scoped>\n",
              "    .dataframe tbody tr th:only-of-type {\n",
              "        vertical-align: middle;\n",
              "    }\n",
              "\n",
              "    .dataframe tbody tr th {\n",
              "        vertical-align: top;\n",
              "    }\n",
              "\n",
              "    .dataframe thead th {\n",
              "        text-align: right;\n",
              "    }\n",
              "</style>\n",
              "<table border=\"1\" class=\"dataframe\">\n",
              "  <thead>\n",
              "    <tr style=\"text-align: right;\">\n",
              "      <th></th>\n",
              "      <th>Unnamed: 0</th>\n",
              "      <th>carat</th>\n",
              "      <th>cut</th>\n",
              "      <th>color</th>\n",
              "      <th>clarity</th>\n",
              "      <th>depth</th>\n",
              "      <th>table</th>\n",
              "      <th>price</th>\n",
              "      <th>x</th>\n",
              "      <th>y</th>\n",
              "      <th>z</th>\n",
              "    </tr>\n",
              "  </thead>\n",
              "  <tbody>\n",
              "    <tr>\n",
              "      <th>0</th>\n",
              "      <td>1</td>\n",
              "      <td>0.23</td>\n",
              "      <td>Ideal</td>\n",
              "      <td>E</td>\n",
              "      <td>SI2</td>\n",
              "      <td>61.5</td>\n",
              "      <td>55.0</td>\n",
              "      <td>326</td>\n",
              "      <td>3.95</td>\n",
              "      <td>3.98</td>\n",
              "      <td>2.43</td>\n",
              "    </tr>\n",
              "    <tr>\n",
              "      <th>1</th>\n",
              "      <td>2</td>\n",
              "      <td>0.21</td>\n",
              "      <td>Premium</td>\n",
              "      <td>E</td>\n",
              "      <td>SI1</td>\n",
              "      <td>59.8</td>\n",
              "      <td>61.0</td>\n",
              "      <td>326</td>\n",
              "      <td>3.89</td>\n",
              "      <td>3.84</td>\n",
              "      <td>2.31</td>\n",
              "    </tr>\n",
              "    <tr>\n",
              "      <th>2</th>\n",
              "      <td>3</td>\n",
              "      <td>0.23</td>\n",
              "      <td>Good</td>\n",
              "      <td>E</td>\n",
              "      <td>VS1</td>\n",
              "      <td>56.9</td>\n",
              "      <td>65.0</td>\n",
              "      <td>327</td>\n",
              "      <td>4.05</td>\n",
              "      <td>4.07</td>\n",
              "      <td>2.31</td>\n",
              "    </tr>\n",
              "    <tr>\n",
              "      <th>3</th>\n",
              "      <td>4</td>\n",
              "      <td>0.29</td>\n",
              "      <td>Premium</td>\n",
              "      <td>I</td>\n",
              "      <td>VS2</td>\n",
              "      <td>62.4</td>\n",
              "      <td>58.0</td>\n",
              "      <td>334</td>\n",
              "      <td>4.20</td>\n",
              "      <td>4.23</td>\n",
              "      <td>2.63</td>\n",
              "    </tr>\n",
              "    <tr>\n",
              "      <th>4</th>\n",
              "      <td>5</td>\n",
              "      <td>0.31</td>\n",
              "      <td>Good</td>\n",
              "      <td>J</td>\n",
              "      <td>SI2</td>\n",
              "      <td>63.3</td>\n",
              "      <td>58.0</td>\n",
              "      <td>335</td>\n",
              "      <td>4.34</td>\n",
              "      <td>4.35</td>\n",
              "      <td>2.75</td>\n",
              "    </tr>\n",
              "  </tbody>\n",
              "</table>\n",
              "</div>\n",
              "      <button class=\"colab-df-convert\" onclick=\"convertToInteractive('df-bc444c6b-0a40-4905-a808-436d3560e2e0')\"\n",
              "              title=\"Convert this dataframe to an interactive table.\"\n",
              "              style=\"display:none;\">\n",
              "        \n",
              "  <svg xmlns=\"http://www.w3.org/2000/svg\" height=\"24px\"viewBox=\"0 0 24 24\"\n",
              "       width=\"24px\">\n",
              "    <path d=\"M0 0h24v24H0V0z\" fill=\"none\"/>\n",
              "    <path d=\"M18.56 5.44l.94 2.06.94-2.06 2.06-.94-2.06-.94-.94-2.06-.94 2.06-2.06.94zm-11 1L8.5 8.5l.94-2.06 2.06-.94-2.06-.94L8.5 2.5l-.94 2.06-2.06.94zm10 10l.94 2.06.94-2.06 2.06-.94-2.06-.94-.94-2.06-.94 2.06-2.06.94z\"/><path d=\"M17.41 7.96l-1.37-1.37c-.4-.4-.92-.59-1.43-.59-.52 0-1.04.2-1.43.59L10.3 9.45l-7.72 7.72c-.78.78-.78 2.05 0 2.83L4 21.41c.39.39.9.59 1.41.59.51 0 1.02-.2 1.41-.59l7.78-7.78 2.81-2.81c.8-.78.8-2.07 0-2.86zM5.41 20L4 18.59l7.72-7.72 1.47 1.35L5.41 20z\"/>\n",
              "  </svg>\n",
              "      </button>\n",
              "      \n",
              "  <style>\n",
              "    .colab-df-container {\n",
              "      display:flex;\n",
              "      flex-wrap:wrap;\n",
              "      gap: 12px;\n",
              "    }\n",
              "\n",
              "    .colab-df-convert {\n",
              "      background-color: #E8F0FE;\n",
              "      border: none;\n",
              "      border-radius: 50%;\n",
              "      cursor: pointer;\n",
              "      display: none;\n",
              "      fill: #1967D2;\n",
              "      height: 32px;\n",
              "      padding: 0 0 0 0;\n",
              "      width: 32px;\n",
              "    }\n",
              "\n",
              "    .colab-df-convert:hover {\n",
              "      background-color: #E2EBFA;\n",
              "      box-shadow: 0px 1px 2px rgba(60, 64, 67, 0.3), 0px 1px 3px 1px rgba(60, 64, 67, 0.15);\n",
              "      fill: #174EA6;\n",
              "    }\n",
              "\n",
              "    [theme=dark] .colab-df-convert {\n",
              "      background-color: #3B4455;\n",
              "      fill: #D2E3FC;\n",
              "    }\n",
              "\n",
              "    [theme=dark] .colab-df-convert:hover {\n",
              "      background-color: #434B5C;\n",
              "      box-shadow: 0px 1px 3px 1px rgba(0, 0, 0, 0.15);\n",
              "      filter: drop-shadow(0px 1px 2px rgba(0, 0, 0, 0.3));\n",
              "      fill: #FFFFFF;\n",
              "    }\n",
              "  </style>\n",
              "\n",
              "      <script>\n",
              "        const buttonEl =\n",
              "          document.querySelector('#df-bc444c6b-0a40-4905-a808-436d3560e2e0 button.colab-df-convert');\n",
              "        buttonEl.style.display =\n",
              "          google.colab.kernel.accessAllowed ? 'block' : 'none';\n",
              "\n",
              "        async function convertToInteractive(key) {\n",
              "          const element = document.querySelector('#df-bc444c6b-0a40-4905-a808-436d3560e2e0');\n",
              "          const dataTable =\n",
              "            await google.colab.kernel.invokeFunction('convertToInteractive',\n",
              "                                                     [key], {});\n",
              "          if (!dataTable) return;\n",
              "\n",
              "          const docLinkHtml = 'Like what you see? Visit the ' +\n",
              "            '<a target=\"_blank\" href=https://colab.research.google.com/notebooks/data_table.ipynb>data table notebook</a>'\n",
              "            + ' to learn more about interactive tables.';\n",
              "          element.innerHTML = '';\n",
              "          dataTable['output_type'] = 'display_data';\n",
              "          await google.colab.output.renderOutput(dataTable, element);\n",
              "          const docLink = document.createElement('div');\n",
              "          docLink.innerHTML = docLinkHtml;\n",
              "          element.appendChild(docLink);\n",
              "        }\n",
              "      </script>\n",
              "    </div>\n",
              "  </div>\n",
              "  "
            ]
          },
          "metadata": {},
          "execution_count": 1293
        }
      ]
    },
    {
      "cell_type": "code",
      "source": [
        "plt.hist(diamonds_df['price'], bins=100)\n",
        "plt.grid();"
      ],
      "metadata": {
        "id": "1OpqYQP7wnnG",
        "colab": {
          "base_uri": "https://localhost:8080/",
          "height": 265
        },
        "outputId": "d8fda13b-b468-4ff4-ae50-123cb67dd45e"
      },
      "execution_count": 1294,
      "outputs": [
        {
          "output_type": "display_data",
          "data": {
            "text/plain": [
              "<Figure size 432x288 with 1 Axes>"
            ],
            "image/png": "[encoded data removed]"
          },
          "metadata": {
            "needs_background": "light"
          }
        }
      ]
    },
    {
      "cell_type": "markdown",
      "source": [
        "#**Подготовка данных**"
      ],
      "metadata": {
        "id": "ZF2-kw_swoyq"
      }
    },
    {
      "cell_type": "code",
      "source": [
        "features = ['carat', 'cut', 'color', 'clarity', 'depth', 'table', 'x', 'y', 'z']\n",
        "target = ['price']"
      ],
      "metadata": {
        "id": "9UHmUC6QwyrO"
      },
      "execution_count": 1295,
      "outputs": []
    },
    {
      "cell_type": "code",
      "source": [
        "cut_transform = {'Fair': 0, 'Good': 1, 'Very Good': 2, 'Premium': 3, 'Ideal': 4}\n",
        "clarity_transform = {'I1': 0, 'SI2': 1, 'SI1': 2, 'VS2': 3, 'VS1': 4, 'VVS2': 5, 'VVS1': 6, 'IF': 7}\n",
        "color_transorm = {'D': 0, 'E': 1, 'F': 2, 'G': 3, 'H': 4, 'I': 5, 'J': 6}"
      ],
      "metadata": {
        "id": "P1cpPusbwzkk"
      },
      "execution_count": 1296,
      "outputs": []
    },
    {
      "cell_type": "code",
      "source": [
        "diamonds_df['cut'] = diamonds_df['cut'].apply(lambda x: cut_transform.get(x))\n",
        "diamonds_df['color'] = diamonds_df['color'].apply(lambda x: color_transorm.get(x))\n",
        "diamonds_df['clarity'] = diamonds_df['clarity'].apply(lambda x: clarity_transform.get(x))"
      ],
      "metadata": {
        "id": "o3E6PAa-w1iM"
      },
      "execution_count": 1297,
      "outputs": []
    },
    {
      "cell_type": "code",
      "source": [
        "X = diamonds_df[features].copy().values\n",
        "y = diamonds_df[target].values"
      ],
      "metadata": {
        "id": "6scKdQfTw26u"
      },
      "execution_count": 1298,
      "outputs": []
    },
    {
      "cell_type": "code",
      "source": [
        "scaler = MinMaxScaler()\n",
        "X = scaler.fit_transform(X)"
      ],
      "metadata": {
        "id": "omVc-g53w3bd"
      },
      "execution_count": 1299,
      "outputs": []
    },
    {
      "cell_type": "code",
      "source": [
        "X_train, X_test, y_train, y_test = train_test_split(X, y, random_state=47, test_size=0.3)"
      ],
      "metadata": {
        "id": "siYzn9Lsw3YE"
      },
      "execution_count": 1300,
      "outputs": []
    },
    {
      "cell_type": "markdown",
      "source": [
        "#**Обучаем модель линейной регрессии**"
      ],
      "metadata": {
        "id": "F7NtOBgQw443"
      }
    },
    {
      "cell_type": "code",
      "source": [
        "reg = LinearRegression().fit(X_train, y_train)"
      ],
      "metadata": {
        "id": "Q1fKBaZPw9u9"
      },
      "execution_count": 1301,
      "outputs": []
    },
    {
      "cell_type": "code",
      "source": [
        "\n",
        "y_pred = reg.predict(X_test)"
      ],
      "metadata": {
        "id": "50TQRnKyw9rm"
      },
      "execution_count": 1302,
      "outputs": []
    },
    {
      "cell_type": "code",
      "source": [
        "score = r2_score(y_pred, y_test)"
      ],
      "metadata": {
        "id": "2ly0IQaIw9nt"
      },
      "execution_count": 1303,
      "outputs": []
    },
    {
      "cell_type": "code",
      "source": [
        "plt.title(f'R2: {str(score)[:5]}')\n",
        "plt.hist(y_pred.reshape(1, -1)[0], bins=100, label='PREDICTION')\n",
        "plt.hist(y_test.reshape(1, -1)[0], bins=100, label='GT')\n",
        "plt.legend()\n",
        "plt.grid();"
      ],
      "metadata": {
        "id": "sFfAWOrCw9jF",
        "colab": {
          "base_uri": "https://localhost:8080/",
          "height": 281
        },
        "outputId": "60e5d0d3-c250-42d7-eb34-7e238f6fbb51"
      },
      "execution_count": 1304,
      "outputs": [
        {
          "output_type": "display_data",
          "data": {
            "text/plain": [
              "<Figure size 432x288 with 1 Axes>"
            ],
            "image/png": "[encoded data removed]"
          },
          "metadata": {
            "needs_background": "light"
          }
        }
      ]
    },
    {
      "cell_type": "code",
      "source": [
        "reg = MLPRegressor(activation='logistic', max_iter=10)\n",
        "reg.fit(X_train, y_train)\n",
        "y_pred = reg.predict(X_test)\n",
        "score = r2_score(y_pred, y_test)\n",
        "print(\"Score: \", score)\n",
        "\n",
        "#plt.figure(figsize=(10, 8))\n",
        "#plt.plot(Loss_values)\n",
        "#plt.title('Функция потерь', fontsize=15)\n",
        "#plt.xlabel('номер итерации', fontsize=14)\n",
        "#plt.ylabel('$Loss(\\hat{y}, y)$', fontsize=14)\n",
        "#plt.show()"
      ],
      "metadata": {
        "colab": {
          "base_uri": "https://localhost:8080/"
        },
        "id": "nEDP2JFWulIi",
        "outputId": "86d35457-9426-4e49-cf68-690b595d64e5"
      },
      "execution_count": 1305,
      "outputs": [
        {
          "output_type": "stream",
          "name": "stderr",
          "text": [
            "/usr/local/lib/python3.8/dist-packages/sklearn/neural_network/_multilayer_perceptron.py:1599: DataConversionWarning: A column-vector y was passed when a 1d array was expected. Please change the shape of y to (n_samples, ), for example using ravel().\n",
            "  y = column_or_1d(y, warn=True)\n"
          ]
        },
        {
          "output_type": "stream",
          "name": "stdout",
          "text": [
            "Score:  -63181340.39284156\n"
          ]
        },
        {
          "output_type": "stream",
          "name": "stderr",
          "text": [
            "/usr/local/lib/python3.8/dist-packages/sklearn/neural_network/_multilayer_perceptron.py:692: ConvergenceWarning: Stochastic Optimizer: Maximum iterations (10) reached and the optimization hasn't converged yet.\n",
            "  warnings.warn(\n"
          ]
        }
      ]
    },
    {
      "cell_type": "markdown",
      "source": [
        "#**Создаём модель MLP для задачи регрессии**"
      ],
      "metadata": {
        "id": "Y-XwpubFxAyS"
      }
    },
    {
      "cell_type": "code",
      "source": [
        "class Linear:\n",
        "    def __init__(self, input_size, output_size):\n",
        "        '''\n",
        "        Creates weights and biases for linear layer.\n",
        "        Dimention of inputs is *input_size*, of output: *output_size*.\n",
        "        '''\n",
        "        #### YOUR CODE HERE\n",
        "        #### Create weights, initialize them with samples from N(0, 0.1).\n",
        "        self.W = np.random.randn(input_size, output_size)*0.01\n",
        "        self.b = np.zeros(output_size)\n",
        "\n",
        "    def forward(self, X):\n",
        "        '''\n",
        "        Passes objects through this layer.\n",
        "        X is np.array of size (N, input_size).\n",
        "        Returns output of size (N, output_size).\n",
        "        Hint: You may need to store X for backward pass\n",
        "        '''\n",
        "        self.X = X\n",
        "        return X.dot(self.W)+self.b\n",
        "\n",
        "    def backward(self, dLdy):\n",
        "        '''\n",
        "        1. Compute dLdw and dLdx.\n",
        "        2. Store dLdw for step() call\n",
        "        3. Return dLdx\n",
        "        '''\n",
        "        self.dLdW = self.X.T.dot(dLdy)\n",
        "        self.dLdb = dLdy.sum(0)\n",
        "        self.dLdx = dLdy.dot(self.W.T)\n",
        "        return self.dLdx\n",
        "\n",
        "    def step(self, learning_rate):\n",
        "        '''\n",
        "        1. Apply gradient dLdw to network:\n",
        "        w <- w - learning_rate*dLdw\n",
        "        '''\n",
        "        self.W = self.W - learning_rate * self.dLdW\n",
        "        self.b = self.b - learning_rate * self.dLdb"
      ],
      "metadata": {
        "id": "jR1HykE0zX91"
      },
      "execution_count": 1306,
      "outputs": []
    },
    {
      "cell_type": "code",
      "source": [
        "class Sigmoid:\n",
        "    def __init__(self):\n",
        "        pass\n",
        "    \n",
        "    def forward(self, X):\n",
        "        self.s = 1./(1+np.exp(-X))\n",
        "        return self.s\n",
        "    \n",
        "    def backward(self, dLdy):\n",
        "        return self.s*(1-self.s)*dLdy\n",
        "    \n",
        "    def step(self, learning_rate):\n",
        "        pass"
      ],
      "metadata": {
        "id": "fhTzvbFl1TUs"
      },
      "execution_count": 1307,
      "outputs": []
    },
    {
      "cell_type": "code",
      "source": [
        "class ReLU:\n",
        "    def __init__(self):\n",
        "        pass\n",
        "    \n",
        "    def forward(self, X):\n",
        "        '''\n",
        "        Passes objects through this layer.\n",
        "        X is np.array of size (N, d)\n",
        "        '''\n",
        "        self.s = np.maximum(X, 0)\n",
        "        return self.s\n",
        "    \n",
        "    def backward(self, dLdy):\n",
        "        return self.s*1. * (dLdy > 0)\n",
        "    \n",
        "    def step(self, learning_rate):\n",
        "        pass"
      ],
      "metadata": {
        "id": "J6cbAE581YiU"
      },
      "execution_count": 1308,
      "outputs": []
    },
    {
      "cell_type": "code",
      "source": [
        "class MyLinear:\n",
        "  def __init__(self, input_size, output_size, outer=False):\n",
        "    self.outer = outer\n",
        "    if outer is False:\n",
        "      self.w = np.random.normal(size=(output_size, input_size)) * 0.1\n",
        "      self.b = np.zeros(output_size)\n",
        "    else:\n",
        "      self.w = np.random.normal(size=(1, input_size)) * 0.1\n",
        "      self.b = np.zeros(1)\n",
        "\n",
        "  def loss(y_pred, y):\n",
        "    return np.mean((y_pred - y) ** 2)\n",
        "\n",
        "  def sigmoid(self, X):\n",
        "      return 1 / (1 + np.exp(-X))\n",
        "\n",
        "  def sigmoid_derivative(self, x):\n",
        "      return self.sigmoid(x) * (1 - self.sigmoid(x))\n",
        "\n",
        "  def ReLU(self, x):\n",
        "    return np.maximum(x, 0)\n",
        "\n",
        "  def relu_derivative(self, x):\n",
        "    return 1. * (x > 0)\n",
        "  \n",
        "  def activate(self, x):\n",
        "       #return self.sigmoid(x)\n",
        "       return self.ReLU(x)\n",
        "\n",
        "  def forward(self, X):\n",
        "    self.X = X\n",
        "    self.Y = self.X @ self.w.T + self.b\n",
        "    #self.Y = self.activate(self.Y)\n",
        "    #if self.outer != True:\n",
        "    #   self.Y = self.activate(self.Y)\n",
        "    return self.Y\n",
        "\n",
        "  def backward(self, dLdy): #dldw = dldy * dydw, dldx = dldy*dydx\n",
        "    #if self.outer != True:\n",
        "      #dLdy = dLdy * self.sigmoid_derivative(self.Y)\n",
        "    #  dLdy = dLdy * self.relu_derivative(self.Y)\n",
        "    #dLdy = dLdy * self.relu_derivative(self.Y)\n",
        "    self.dLdw = dLdy.T @ self.X       \n",
        "                                                                                                                                  \n",
        "    self.dLdb = np.zeros(self.b.shape)\n",
        "    for i in range(dLdy.T.shape[0]):\n",
        "      self.dLdb[i] = np.mean(dLdy.T[i])\n",
        "    dLdx = dLdy @ self.w\n",
        "    return dLdx\n",
        "\n",
        "  def step(self, learning_rate):\n",
        "    self.w -= learning_rate * self.dLdw\n",
        "    self.b -= learning_rate * self.dLdb\n"
      ],
      "metadata": {
        "id": "J_xjKzPv8F2o"
      },
      "execution_count": 1309,
      "outputs": []
    },
    {
      "cell_type": "code",
      "source": [
        "X_train.shape"
      ],
      "metadata": {
        "colab": {
          "base_uri": "https://localhost:8080/"
        },
        "id": "hvES4SVFrWg_",
        "outputId": "3757c07e-03eb-471d-a0de-852a4c63f236"
      },
      "execution_count": 1310,
      "outputs": [
        {
          "output_type": "execute_result",
          "data": {
            "text/plain": [
              "(37758, 9)"
            ]
          },
          "metadata": {},
          "execution_count": 1310
        }
      ]
    },
    {
      "cell_type": "code",
      "source": [
        "np.ones([(X_train.shape[0])]).reshape(-1, 1).shape"
      ],
      "metadata": {
        "colab": {
          "base_uri": "https://localhost:8080/"
        },
        "id": "1KG8oCDwrq1g",
        "outputId": "6bf547fb-dc05-44d7-b527-5a5f2f14f421"
      },
      "execution_count": 1311,
      "outputs": [
        {
          "output_type": "execute_result",
          "data": {
            "text/plain": [
              "(37758, 1)"
            ]
          },
          "metadata": {},
          "execution_count": 1311
        }
      ]
    },
    {
      "cell_type": "code",
      "source": [
        "#X_train_new = np.hstack((X_train, np.ones([(X_train.shape[0])]).reshape(-1, 1)))\n",
        "#X_train_new.shape"
      ],
      "metadata": {
        "id": "IgnrYHlirTVi"
      },
      "execution_count": 1312,
      "outputs": []
    },
    {
      "cell_type": "code",
      "source": [
        "class NLLLoss:\n",
        "    def __init__(self):\n",
        "        '''\n",
        "        Applies Softmax operation to inputs and computes NLL loss\n",
        "        '''\n",
        "        pass\n",
        "    \n",
        "    def forward(self, X, y):\n",
        "        '''\n",
        "        Passes objects through this layer.\n",
        "        X is np.array of size (N, C), where C is the number of classes\n",
        "        y is np.array of size (N), contains correct labels\n",
        "        '''\n",
        "        self.p = np.exp(X)\n",
        "        self.p /= self.p.sum(1, keepdims=True)\n",
        "        self.y = np.zeros((X.shape[0], X.shape[1]))\n",
        "        self.y[np.arange(X.shape[0]), y] = 1\n",
        "        return -(np.log(self.p)*self.y).sum(1).mean(0)\n",
        "    \n",
        "    def backward(self):\n",
        "        '''\n",
        "        Note that here dLdy = 1 since L = y\n",
        "        1. Compute dLdx\n",
        "        2. Return dLdx\n",
        "        '''\n",
        "        return (self.p - self.y) / self.y.shape[0]"
      ],
      "metadata": {
        "id": "9MnE1pyj2S0l"
      },
      "execution_count": 1313,
      "outputs": []
    },
    {
      "cell_type": "code",
      "source": [
        "class MLPRegressor:\n",
        "    def __init__(\n",
        "        self,\n",
        "        hidden_layer_sizes=(100,),\n",
        "        learning_rate=0.0001,\n",
        "        max_iter=10\n",
        "    ):\n",
        "          self.X = None\n",
        "          self.Y = None\n",
        "          self.hidden_layer_sizes = hidden_layer_sizes\n",
        "          self.layers = []\n",
        "          self.learning_rate = learning_rate=0.001,\n",
        "          self.max_iter = max_iter\n",
        "          \n",
        "\n",
        "\n",
        "    def loss(self, y_pred, y):\n",
        "      return 0.5 * np.mean((y - y_pred) ** 2)\n",
        "\n",
        "    def sigmoid(self, X):\n",
        "      return 1 / (1 + np.exp(-X))\n",
        "\n",
        "    def sigmoid_derivative(self, x):\n",
        "      return self.sigmoid(x) * (1 - self.sigmoid(x))\n",
        "\n",
        "\n",
        "    def forward(self, X):\n",
        "      for layer in self.layers:\n",
        "          X = layer.forward(X)\n",
        "      return X\n",
        "\n",
        "    def ReLU(self, x):\n",
        "      return np.maximum(x, 0)\n",
        "\n",
        "    def relu_derivative(self, x):\n",
        "      return 1. * (x > 0)\n",
        "\n",
        "    def backward(self, dLdy):\n",
        "      for layer in self.layers[::-1]:\n",
        "        dLdy = layer.backward(dLdy)\n",
        "        \n",
        "    def step(self, learning_rate):\n",
        "      for layer in self.layers:\n",
        "        layer.step(learning_rate)\n",
        "\n",
        "    def fit(self, X, y):\n",
        "      #print(\"Fit\")\n",
        "      n = X.shape[1]\n",
        "     \n",
        "      for i in range(len(self.hidden_layer_sizes)): #заполняем скрытые слои нейронами\n",
        "        input = 0\n",
        "        output = 0\n",
        "        if i == 0:\n",
        "          input = n\n",
        "        else:\n",
        "          input = self.hidden_layer_sizes[i-1]\n",
        "        output = self.hidden_layer_sizes[i]\n",
        "        #self.layers.append(Linear(input, output))\n",
        "        self.layers.append(MyLinear(input, output))\n",
        "      self.layers.append(ReLU())\n",
        "      self.layers.append(MyLinear(self.hidden_layer_sizes[-1], 1, True))\n",
        "      #self.layers.append(Linear(self.hidden_layer_sizes[-1], 1))\n",
        "      loss_values = []\n",
        "      #X = np.hstack((X, np.ones([(X.shape[0])]).reshape(-1, 1)))\n",
        "      for i in range(self.max_iter):\n",
        "          print(\"Epoch \" + str(i + 1) + \"/\" + str(self.max_iter))\n",
        "          y_pred = (self.forward(X)) #проходим по всем скрытым слоям\n",
        "          print(\"y_pred:\", y_pred)\n",
        "          print(\"y:\", y)\n",
        "          dLdy = (2 * (y_pred - y)) #* self.relu_derivative(y_pred)\n",
        "          self.backward(dLdy)  \n",
        "          self.step(self.learning_rate)\n",
        "          print(\"loss:\", self.loss(y_pred, y))\n",
        "          loss_values.append(self.loss(y_pred, y))\n",
        "          \n",
        "      return loss_values\n",
        "    \n",
        "    def predict(self, X):\n",
        "        return self.forward(X)"
      ],
      "metadata": {
        "id": "EMAsNjkC7lQ3"
      },
      "execution_count": 1314,
      "outputs": []
    },
    {
      "cell_type": "code",
      "source": [
        "X_train.shape"
      ],
      "metadata": {
        "colab": {
          "base_uri": "https://localhost:8080/"
        },
        "id": "nddPXq5ce3TD",
        "outputId": "d8a5f32a-79ec-4e79-99e7-b412d27ba228"
      },
      "execution_count": 1315,
      "outputs": [
        {
          "output_type": "execute_result",
          "data": {
            "text/plain": [
              "(37758, 9)"
            ]
          },
          "metadata": {},
          "execution_count": 1315
        }
      ]
    },
    {
      "cell_type": "code",
      "source": [
        "y_train.shape"
      ],
      "metadata": {
        "colab": {
          "base_uri": "https://localhost:8080/"
        },
        "id": "_eWdl53Ge47K",
        "outputId": "9d424fa0-461a-4104-8345-c1db20cb6292"
      },
      "execution_count": 1316,
      "outputs": [
        {
          "output_type": "execute_result",
          "data": {
            "text/plain": [
              "(37758, 1)"
            ]
          },
          "metadata": {},
          "execution_count": 1316
        }
      ]
    },
    {
      "cell_type": "code",
      "source": [
        "y_train"
      ],
      "metadata": {
        "colab": {
          "base_uri": "https://localhost:8080/"
        },
        "id": "AdV4DTaOe95b",
        "outputId": "af9ea6ae-a24a-4ff0-b087-d1bab1bad624"
      },
      "execution_count": 1317,
      "outputs": [
        {
          "output_type": "execute_result",
          "data": {
            "text/plain": [
              "array([[ 1013],\n",
              "       [17360],\n",
              "       [ 1440],\n",
              "       ...,\n",
              "       [ 1853],\n",
              "       [ 2333],\n",
              "       [ 1009]])"
            ]
          },
          "metadata": {},
          "execution_count": 1317
        }
      ]
    },
    {
      "cell_type": "code",
      "source": [
        "my_X = np.array([[1., 3.],\n",
        "              [2., 4.],\n",
        "              [-1., -3.2]])\n",
        "my_X.shape\n",
        "my_X_test = np.array([[2., 5.],\n",
        "              [8., 2.],\n",
        "              [-17., -2]])\n",
        "my_X_test.shape"
      ],
      "metadata": {
        "colab": {
          "base_uri": "https://localhost:8080/"
        },
        "id": "nHgRQ32GwyCN",
        "outputId": "6a847422-3d4e-4c09-c18f-d7c2a5889360"
      },
      "execution_count": 1318,
      "outputs": [
        {
          "output_type": "execute_result",
          "data": {
            "text/plain": [
              "(3, 2)"
            ]
          },
          "metadata": {},
          "execution_count": 1318
        }
      ]
    },
    {
      "cell_type": "code",
      "source": [
        "my_y = np.array([[3], [4], [5]])\n",
        "my_y.shape\n",
        "my_y_test = np.array([[6], [7], [1]])\n",
        "my_y_test.shape"
      ],
      "metadata": {
        "colab": {
          "base_uri": "https://localhost:8080/"
        },
        "id": "FX1emvttxGPa",
        "outputId": "77e1302a-2386-4e18-8f89-7a2fafd57a26"
      },
      "execution_count": 1319,
      "outputs": [
        {
          "output_type": "execute_result",
          "data": {
            "text/plain": [
              "(3, 1)"
            ]
          },
          "metadata": {},
          "execution_count": 1319
        }
      ]
    },
    {
      "cell_type": "code",
      "source": [
        "my_y"
      ],
      "metadata": {
        "colab": {
          "base_uri": "https://localhost:8080/"
        },
        "id": "SUzbHhOifAsy",
        "outputId": "26098bb5-b059-460c-8504-5e866c3b7648"
      },
      "execution_count": 1320,
      "outputs": [
        {
          "output_type": "execute_result",
          "data": {
            "text/plain": [
              "array([[3],\n",
              "       [4],\n",
              "       [5]])"
            ]
          },
          "metadata": {},
          "execution_count": 1320
        }
      ]
    },
    {
      "cell_type": "code",
      "source": [
        "reg = MLPRegressor()\n",
        "Loss_values = reg.fit(my_X, my_y)"
      ],
      "metadata": {
        "colab": {
          "base_uri": "https://localhost:8080/"
        },
        "id": "qg_CUwO4xR2l",
        "outputId": "eebe18f8-bedd-453c-991e-d3182cb45a18"
      },
      "execution_count": 1321,
      "outputs": [
        {
          "output_type": "stream",
          "name": "stdout",
          "text": [
            "Epoch 1/10\n",
            "y_pred: [[ 0.13152287]\n",
            " [ 0.22699833]\n",
            " [-0.06358839]]\n",
            "y: [[3]\n",
            " [4]\n",
            " [5]]\n",
            "loss: 8.017271667271585\n",
            "Epoch 2/10\n",
            "y_pred: [[0.24682698]\n",
            " [0.38712436]\n",
            " [0.00210258]]\n",
            "y: [[3]\n",
            " [4]\n",
            " [5]]\n",
            "loss: 7.601968449958188\n",
            "Epoch 3/10\n",
            "y_pred: [[0.35413515]\n",
            " [0.53602203]\n",
            " [0.06583369]]\n",
            "y: [[3]\n",
            " [4]\n",
            " [5]]\n",
            "loss: 7.224290227242849\n",
            "Epoch 4/10\n",
            "y_pred: [[0.45478529]\n",
            " [0.67559656]\n",
            " [0.12772305]]\n",
            "y: [[3]\n",
            " [4]\n",
            " [5]]\n",
            "loss: 6.8781431261523975\n",
            "Epoch 5/10\n",
            "y_pred: [[0.54987244]\n",
            " [0.80740627]\n",
            " [0.18786527]]\n",
            "y: [[3]\n",
            " [4]\n",
            " [5]]\n",
            "loss: 6.558736732624134\n",
            "Epoch 6/10\n",
            "y_pred: [[0.63996506]\n",
            " [0.93224994]\n",
            " [0.24632953]]\n",
            "y: [[3]\n",
            " [4]\n",
            " [5]]\n",
            "loss: 6.263039703170006\n",
            "Epoch 7/10\n",
            "y_pred: [[0.72545902]\n",
            " [1.05066895]\n",
            " [0.30323162]]\n",
            "y: [[3]\n",
            " [4]\n",
            " [5]]\n",
            "loss: 5.988620583138451\n",
            "Epoch 8/10\n",
            "y_pred: [[0.80670329]\n",
            " [1.16315197]\n",
            " [0.35867324]]\n",
            "y: [[3]\n",
            " [4]\n",
            " [5]]\n",
            "loss: 5.733361885515016\n",
            "Epoch 9/10\n",
            "y_pred: [[0.88402538]\n",
            " [1.27015228]\n",
            " [0.41270873]]\n",
            "y: [[3]\n",
            " [4]\n",
            " [5]]\n",
            "loss: 5.495443068622433\n",
            "Epoch 10/10\n",
            "y_pred: [[0.95769378]\n",
            " [1.37204623]\n",
            " [0.46540925]]\n",
            "y: [[3]\n",
            " [4]\n",
            " [5]]\n",
            "loss: 5.2732781570451985\n"
          ]
        }
      ]
    },
    {
      "cell_type": "code",
      "source": [
        "my_y_pred = reg.predict(my_X_test)\n",
        "print(\"Predicted:\", my_y_pred)\n",
        "print(\"Test:\", my_y_test)\n",
        "score = r2_score(my_y_pred, my_y_test)\n",
        "print(\"Score: \", score)"
      ],
      "metadata": {
        "colab": {
          "base_uri": "https://localhost:8080/"
        },
        "id": "AieL9a7EUDlr",
        "outputId": "c1048a00-ccf0-4dca-b9e2-93bee57df319"
      },
      "execution_count": 1322,
      "outputs": [
        {
          "output_type": "stream",
          "name": "stdout",
          "text": [
            "Predicted: [[1.72951937]\n",
            " [2.26799766]\n",
            " [1.90616   ]]\n",
            "Test: [[6]\n",
            " [7]\n",
            " [1]]\n",
            "Score:  -274.05735620112944\n"
          ]
        }
      ]
    },
    {
      "cell_type": "code",
      "source": [
        "plt.figure(figsize=(10, 8))\n",
        "plt.plot(Loss_values)\n",
        "plt.title('Функция потерь', fontsize=15)\n",
        "plt.xlabel('номер итерации', fontsize=14)\n",
        "plt.ylabel('$Loss(\\hat{y}, y)$', fontsize=14)\n",
        "plt.show()"
      ],
      "metadata": {
        "colab": {
          "base_uri": "https://localhost:8080/",
          "height": 519
        },
        "id": "9V_J6zrjTza1",
        "outputId": "2f0df827-5c59-43f5-af90-e82ab11a23be"
      },
      "execution_count": 1323,
      "outputs": [
        {
          "output_type": "display_data",
          "data": {
            "text/plain": [
              "<Figure size 720x576 with 1 Axes>"
            ],
            "image/png": "[encoded data removed]"
          },
          "metadata": {
            "needs_background": "light"
          }
        }
      ]
    },
    {
      "cell_type": "markdown",
      "source": [
        "#**Проверяем модель MLP на выборке Diamonds**"
      ],
      "metadata": {
        "id": "xZtkaR9DxFcn"
      }
    },
    {
      "cell_type": "code",
      "source": [
        "%%time\n",
        "\n",
        "reg = MLPRegressor()\n",
        "Loss_values = reg.fit(X_train, y_train)\n",
        "y_pred = reg.predict(X_test)\n",
        "score = r2_score(y_pred, y_test)\n",
        "print(\"Score: \", score)\n",
        "\n",
        "plt.figure(figsize=(10, 8))\n",
        "plt.plot(Loss_values)\n",
        "plt.title('Функция потерь', fontsize=15)\n",
        "plt.xlabel('номер итерации', fontsize=14)\n",
        "plt.ylabel('$Loss(\\hat{y}, y)$', fontsize=14)\n",
        "plt.show()"
      ],
      "metadata": {
        "id": "u9TZdWv2bRmQ",
        "colab": {
          "base_uri": "https://localhost:8080/",
          "height": 1000
        },
        "outputId": "c11c2b7b-ea7c-4258-b60e-824dc5f91673"
      },
      "execution_count": 1324,
      "outputs": [
        {
          "output_type": "stream",
          "name": "stdout",
          "text": [
            "Epoch 1/10\n",
            "y_pred: [[-0.18154483]\n",
            " [-0.12012038]\n",
            " [-0.12342917]\n",
            " ...\n",
            " [-0.11022279]\n",
            " [-0.16606788]\n",
            " [-0.12330652]]\n",
            "y: [[ 1013]\n",
            " [17360]\n",
            " [ 1440]\n",
            " ...\n",
            " [ 1853]\n",
            " [ 2333]\n",
            " [ 1009]]\n",
            "loss: 15764160.06144162\n",
            "Epoch 2/10\n",
            "y_pred: [[75765.53299556]\n",
            " [85804.30735208]\n",
            " [69189.89240772]\n",
            " ...\n",
            " [62471.00326198]\n",
            " [73139.22223966]\n",
            " [66531.85647287]]\n",
            "y: [[ 1013]\n",
            " [17360]\n",
            " [ 1440]\n",
            " ...\n",
            " [ 1853]\n",
            " [ 2333]\n",
            " [ 1009]]\n",
            "loss: 2338630853.446486\n",
            "Epoch 3/10\n",
            "y_pred: [[-128.04940238]\n",
            " [-128.04940238]\n",
            " [-128.04940238]\n",
            " ...\n",
            " [-128.04940238]\n",
            " [-128.04940238]\n",
            " [-128.04940238]]\n",
            "y: [[ 1013]\n",
            " [17360]\n",
            " [ 1440]\n",
            " ...\n",
            " [ 1853]\n",
            " [ 2333]\n",
            " [ 1009]]\n",
            "loss: 16279664.885497546\n",
            "Epoch 4/10\n",
            "y_pred: [[-119.89172834]\n",
            " [-119.89172834]\n",
            " [-119.89172834]\n",
            " ...\n",
            " [-119.89172834]\n",
            " [-119.89172834]\n",
            " [-119.89172834]]\n",
            "y: [[ 1013]\n",
            " [17360]\n",
            " [ 1440]\n",
            " ...\n",
            " [ 1853]\n",
            " [ 2333]\n",
            " [ 1009]]\n",
            "loss: 16245703.794664932\n",
            "Epoch 5/10\n",
            "y_pred: [[-111.75076534]\n",
            " [-111.75076534]\n",
            " [-111.75076534]\n",
            " ...\n",
            " [-111.75076534]\n",
            " [-111.75076534]\n",
            " [-111.75076534]]\n",
            "y: [[ 1013]\n",
            " [17360]\n",
            " [ 1440]\n",
            " ...\n",
            " [ 1853]\n",
            " [ 2333]\n",
            " [ 1009]]\n",
            "loss: 16212304.814376969\n",
            "Epoch 6/10\n",
            "y_pred: [[-103.62626919]\n",
            " [-103.62626919]\n",
            " [-103.62626919]\n",
            " ...\n",
            " [-103.62626919]\n",
            " [-103.62626919]\n",
            " [-103.62626919]]\n",
            "y: [[ 1013]\n",
            " [17360]\n",
            " [ 1440]\n",
            " ...\n",
            " [ 1853]\n",
            " [ 2333]\n",
            " [ 1009]]\n",
            "loss: 16179162.354074359\n",
            "Epoch 7/10\n",
            "y_pred: [[-95.51813521]\n",
            " [-95.51813521]\n",
            " [-95.51813521]\n",
            " ...\n",
            " [-95.51813521]\n",
            " [-95.51813521]\n",
            " [-95.51813521]]\n",
            "y: [[ 1013]\n",
            " [17360]\n",
            " [ 1440]\n",
            " ...\n",
            " [ 1853]\n",
            " [ 2333]\n",
            " [ 1009]]\n",
            "loss: 16146210.579374632\n",
            "Epoch 8/10\n",
            "y_pred: [[-87.42629511]\n",
            " [-87.42629511]\n",
            " [-87.42629511]\n",
            " ...\n",
            " [-87.42629511]\n",
            " [-87.42629511]\n",
            " [-87.42629511]]\n",
            "y: [[ 1013]\n",
            " [17360]\n",
            " [ 1440]\n",
            " ...\n",
            " [ 1853]\n",
            " [ 2333]\n",
            " [ 1009]]\n",
            "loss: 16113422.027029855\n",
            "Epoch 9/10\n",
            "y_pred: [[-79.35069579]\n",
            " [-79.35069579]\n",
            " [-79.35069579]\n",
            " ...\n",
            " [-79.35069579]\n",
            " [-79.35069579]\n",
            " [-79.35069579]]\n",
            "y: [[ 1013]\n",
            " [17360]\n",
            " [ 1440]\n",
            " ...\n",
            " [ 1853]\n",
            " [ 2333]\n",
            " [ 1009]]\n",
            "loss: 16080784.59561504\n",
            "Epoch 10/10\n",
            "y_pred: [[-71.29129123]\n",
            " [-71.29129123]\n",
            " [-71.29129123]\n",
            " ...\n",
            " [-71.29129123]\n",
            " [-71.29129123]\n",
            " [-71.29129123]]\n",
            "y: [[ 1013]\n",
            " [17360]\n",
            " [ 1440]\n",
            " ...\n",
            " [ 1853]\n",
            " [ 2333]\n",
            " [ 1009]]\n",
            "loss: 16048292.656803152\n",
            "Score:  -14503869.756967187\n"
          ]
        },
        {
          "output_type": "display_data",
          "data": {
            "text/plain": [
              "<Figure size 720x576 with 1 Axes>"
            ],
            "image/png": "[encoded data removed]"
          },
          "metadata": {
            "needs_background": "light"
          }
        },
        {
          "output_type": "stream",
          "name": "stdout",
          "text": [
            "CPU times: user 1.88 s, sys: 932 ms, total: 2.81 s\n",
            "Wall time: 1.67 s\n"
          ]
        }
      ]
    },
    {
      "cell_type": "code",
      "source": [
        "plt.title(f'R2: {str(score)[:5]}')\n",
        "plt.hist(y_pred.reshape(1, -1)[0], bins=100, label='PREDICTION')\n",
        "plt.hist(y_test.reshape(1, -1)[0], bins=100, label='GT')\n",
        "plt.legend()\n",
        "plt.grid();"
      ],
      "metadata": {
        "id": "DA0KJQcWUbGr",
        "colab": {
          "base_uri": "https://localhost:8080/",
          "height": 281
        },
        "outputId": "7d43fb57-9b19-4bfb-a098-35c68dbc2828"
      },
      "execution_count": 1325,
      "outputs": [
        {
          "output_type": "display_data",
          "data": {
            "text/plain": [
              "<Figure size 432x288 with 1 Axes>"
            ],
            "image/png": "[encoded data removed]"
          },
          "metadata": {
            "needs_background": "light"
          }
        }
      ]
    }
  ]
}